{
 "cells": [
  {
   "cell_type": "code",
   "execution_count": 133,
   "metadata": {},
   "outputs": [
    {
     "name": "stdout",
     "output_type": "stream",
     "text": [
      "Multiplied numbers equal 20\n"
     ]
    }
   ],
   "source": [
    "x = 4\n",
    "y = 5\n",
    "print(\"Multiplied numbers equal\", x*y)"
   ]
  },
  {
   "cell_type": "code",
   "execution_count": 134,
   "metadata": {},
   "outputs": [
    {
     "name": "stdout",
     "output_type": "stream",
     "text": [
      "The average is:  3.0\n"
     ]
    }
   ],
   "source": [
    "list = [1, 2, 3, 3, 4, 5]\n",
    "average = sum(list) / len(list)\n",
    "print(\"The average is: \", average)\n"
   ]
  },
  {
   "cell_type": "code",
   "execution_count": 135,
   "metadata": {},
   "outputs": [
    {
     "name": "stdout",
     "output_type": "stream",
     "text": [
      "Force = Mass * Acceleration\n",
      "Mass =  5\n",
      "Acceleration =  10\n",
      "Force is equal to:  50\n"
     ]
    }
   ],
   "source": [
    "print(\"Force = Mass * Acceleration\")\n",
    "mass = 5\n",
    "acceleration = 10\n",
    "force = (mass*acceleration)\n",
    "print(\"Mass = \", mass)\n",
    "print(\"Acceleration = \", acceleration)\n",
    "print(\"Force is equal to: \", force)\n"
   ]
  },
  {
   "cell_type": "code",
   "execution_count": 136,
   "metadata": {},
   "outputs": [
    {
     "name": "stdout",
     "output_type": "stream",
     "text": [
      "e = mc^2\n",
      "m =  2\n",
      "c =  4\n",
      "c^2 =  16\n",
      "E = (m) 2 * (c^2) 16\n",
      "E =  32\n"
     ]
    }
   ],
   "source": [
    "print(\"e = mc^2\")\n",
    "m = 2\n",
    "c = 4\n",
    "c_sqrd = c*c\n",
    "e = m * c_sqrd\n",
    "print(\"m = \", m)\n",
    "print(\"c = \", c)\n",
    "print(\"c^2 = \", c_sqrd)\n",
    "print(\"E = (m)\", (m), \"* (c^2)\", c_sqrd)\n",
    "print(\"E = \", e)"
   ]
  },
  {
   "cell_type": "code",
   "execution_count": 137,
   "metadata": {},
   "outputs": [
    {
     "name": "stdout",
     "output_type": "stream",
     "text": [
      "Number equals 1\n",
      "Number equals 2\n",
      "Number equals 3\n",
      "Number equals 4\n",
      "Number equals 5\n"
     ]
    }
   ],
   "source": [
    "number = 1\n",
    "\n",
    "while number <= 5:\n",
    "    print(\"Number equals\", number)\n",
    "    number += 1"
   ]
  },
  {
   "cell_type": "code",
   "execution_count": 138,
   "metadata": {},
   "outputs": [
    {
     "name": "stdout",
     "output_type": "stream",
     "text": [
      "Hello, Jupyter\n",
      "This is data analytics\n"
     ]
    }
   ],
   "source": [
    "print(\"Hello, Jupyter\")\n",
    "print(\"This is data analytics\")"
   ]
  }
 ],
 "metadata": {
  "kernelspec": {
   "display_name": ".venv",
   "language": "python",
   "name": "python3"
  },
  "language_info": {
   "codemirror_mode": {
    "name": "ipython",
    "version": 3
   },
   "file_extension": ".py",
   "mimetype": "text/x-python",
   "name": "python",
   "nbconvert_exporter": "python",
   "pygments_lexer": "ipython3",
   "version": "3.12.5"
  }
 },
 "nbformat": 4,
 "nbformat_minor": 2
}
